{
 "cells": [
  {
   "cell_type": "markdown",
   "id": "c61bbb10-c1b2-4edc-9836-ec6c0022233c",
   "metadata": {},
   "source": [
    "Attempting to use Sørensen–Dice coefficient as means of grouping similar data entries\n",
    "- https://en.wikipedia.org/wiki/S%C3%B8rensen%E2%80%93Dice_coefficient\n",
    "- Provides a fractional score between 0 and 1\n",
    "- Does not obey triangle equality, but that does not seem like a downside at this point"
   ]
  },
  {
   "cell_type": "markdown",
   "id": "3ea5a4f2-39d5-4ff2-942c-b323fc4698fd",
   "metadata": {},
   "source": [
    "Following implementation is shamelessly copied from https://en.wikibooks.org/wiki/Algorithm_Implementation/Strings/Dice%27s_coefficient#Python\n",
    "\n",
    "**2022-10-26 note:** Making use o the implementation that will count 'AA' and 'AAAA' as only one match to minimize the impact of column seperator character. This can be improved by removing all duples with the seperator character."
   ]
  },
  {
   "cell_type": "code",
   "execution_count": 14,
   "id": "365910d5-1d67-4bb8-b52a-833f711855c5",
   "metadata": {},
   "outputs": [],
   "source": [
    "\"\"\" more orthodox and robust implementation \"\"\"\n",
    "def dice_coefficient(a, b):\n",
    "    \"\"\"dice coefficient 2nt/(na + nb).\"\"\"\n",
    "    if not len(a) or not len(b): return 0.0\n",
    "    if len(a) == 1:  a=a+u'.'\n",
    "    if len(b) == 1:  b=b+u'.'\n",
    "    \n",
    "    a_bigram_list=[]\n",
    "    for i in range(len(a)-1):\n",
    "      a_bigram_list.append(a[i:i+2])\n",
    "    b_bigram_list=[]\n",
    "    for i in range(len(b)-1):\n",
    "      b_bigram_list.append(b[i:i+2])\n",
    "      \n",
    "    a_bigrams = set(a_bigram_list)\n",
    "    b_bigrams = set(b_bigram_list)\n",
    "    overlap = len(a_bigrams & b_bigrams)\n",
    "    dice_coeff = overlap * 2.0/(len(a_bigrams) + len(b_bigrams))\n",
    "    return dice_coeff"
   ]
  },
  {
   "cell_type": "markdown",
   "id": "3e5cc598-7006-45c7-a88c-5571a7d49476",
   "metadata": {},
   "source": [
    "Pseudocode"
   ]
  },
  {
   "cell_type": "code",
   "execution_count": 2,
   "id": "fee69193-f9b0-43bc-87b4-034b142654c9",
   "metadata": {},
   "outputs": [
    {
     "data": {
      "text/plain": [
       "'\\ndefine dice score threshold\\nload dataframe from Excel sheet\\ndefine list of columns that can be excluded from analysis\\nmake a new column which is every included column concatenated\\n    defines the strings used in the analysis, will refer to them as entries\\nmake a new column called sort index\\n    each \"cluster\" will share an integer\\n    assign initial value of 0\\nsort_index = 1\\nfor every row\\n    if row[sort index] = 0\\n        row[sort index] = sort_index\\n        for every other row (probably implement as another for every row)\\n            if other row[sort index] = 0\\n                dice score (entry, other entry)\\n                if threshold < dice score\\n                    other row[sort index] = sort index\\n        sort index ++\\n'"
      ]
     },
     "execution_count": 2,
     "metadata": {},
     "output_type": "execute_result"
    }
   ],
   "source": [
    "\"\"\"\n",
    "define dice score threshold\n",
    "load dataframe from Excel sheet\n",
    "define list of columns that can be excluded from analysis\n",
    "make a new column which is every included column concatenated\n",
    "    defines the strings used in the analysis, will refer to them as entries\n",
    "make a new column called sort index\n",
    "    each \"cluster\" will share an integer\n",
    "    assign initial value of 0\n",
    "sort_index = 1\n",
    "for every row\n",
    "    if row[sort index] = 0\n",
    "        row[sort index] = sort_index\n",
    "        for every other row (probably implement as another for every row)\n",
    "            if other row[sort index] = 0\n",
    "                dice score (entry, other entry)\n",
    "                if threshold < dice score\n",
    "                    other row[sort index] = sort index\n",
    "        sort index ++\n",
    "\"\"\""
   ]
  },
  {
   "cell_type": "markdown",
   "id": "02367096-b3fb-4a6a-93c5-fd56c5fae44c",
   "metadata": {},
   "source": [
    "# 2022-10-25"
   ]
  },
  {
   "cell_type": "code",
   "execution_count": 38,
   "id": "20829dc2-ec69-47fb-a93c-9cfd341f9a14",
   "metadata": {},
   "outputs": [],
   "source": [
    "path = \"F:/EXCEL Sheets for ADNAN to MERGE 2022/merged.xlsx\"\n",
    "import numpy as np\n",
    "import pandas as pd\n",
    "from icecream import ic\n",
    "from matplotlib import pyplot as plt\n",
    "import time"
   ]
  },
  {
   "cell_type": "markdown",
   "id": "b5c90c3a-dd09-40a1-b9c8-8bfa1cd9497b",
   "metadata": {},
   "source": [
    "Import the Excel sheet"
   ]
  },
  {
   "cell_type": "code",
   "execution_count": 4,
   "id": "dd20b21e-909a-4cf4-a947-6637baad1c29",
   "metadata": {},
   "outputs": [
    {
     "name": "stderr",
     "output_type": "stream",
     "text": [
      "ic| df.columns: Index(['Unnamed: 0', 'Letter', 'Color', 'Status/Notes - Quickbooks - A',\n",
      "                       'Background', 'Title', 'First Name', 'Middle', 'Last Name', 'Amount',\n",
      "                       'Organization', 'Additional/Related Contact', 'Main Phone', 'Mobile',\n",
      "                       'Home', 'Work', 'Fax', 'Main Email', 'Secondary Email',\n",
      "                       'Additional Email', 'Work/School Email', 'Street Address', 'City',\n",
      "                       'State', 'Zip Code', 'Status Notes', 'Company/Organization',\n",
      "                       'Bad Status/Notes - B', 'Address',\n",
      "                       'Status only noted 8-15-2018 in retrospect', 'Unnamed 1', 'Unnamed 2',\n",
      "                       'Unnamed 3', 'Unnamed 4', 'Unnamed 5', 'Company', 'STATUS', 'Source',\n",
      "                       'Interfaith', 'Unnamed: 12', 'Unnamed: 13'],\n",
      "                      dtype='object')\n",
      "ic| df.shape: (9504, 41)\n"
     ]
    },
    {
     "data": {
      "text/html": [
       "<div>\n",
       "<style scoped>\n",
       "    .dataframe tbody tr th:only-of-type {\n",
       "        vertical-align: middle;\n",
       "    }\n",
       "\n",
       "    .dataframe tbody tr th {\n",
       "        vertical-align: top;\n",
       "    }\n",
       "\n",
       "    .dataframe thead th {\n",
       "        text-align: right;\n",
       "    }\n",
       "</style>\n",
       "<table border=\"1\" class=\"dataframe\">\n",
       "  <thead>\n",
       "    <tr style=\"text-align: right;\">\n",
       "      <th></th>\n",
       "      <th>Unnamed: 0</th>\n",
       "      <th>Letter</th>\n",
       "      <th>Color</th>\n",
       "      <th>Status/Notes - Quickbooks - A</th>\n",
       "      <th>Background</th>\n",
       "      <th>Title</th>\n",
       "      <th>First Name</th>\n",
       "      <th>Middle</th>\n",
       "      <th>Last Name</th>\n",
       "      <th>Amount</th>\n",
       "      <th>...</th>\n",
       "      <th>Unnamed 2</th>\n",
       "      <th>Unnamed 3</th>\n",
       "      <th>Unnamed 4</th>\n",
       "      <th>Unnamed 5</th>\n",
       "      <th>Company</th>\n",
       "      <th>STATUS</th>\n",
       "      <th>Source</th>\n",
       "      <th>Interfaith</th>\n",
       "      <th>Unnamed: 12</th>\n",
       "      <th>Unnamed: 13</th>\n",
       "    </tr>\n",
       "  </thead>\n",
       "  <tbody>\n",
       "    <tr>\n",
       "      <th>0</th>\n",
       "      <td>0</td>\n",
       "      <td>A</td>\n",
       "      <td>Red/Lilac</td>\n",
       "      <td></td>\n",
       "      <td>Interfaith</td>\n",
       "      <td></td>\n",
       "      <td></td>\n",
       "      <td></td>\n",
       "      <td></td>\n",
       "      <td>15000</td>\n",
       "      <td>...</td>\n",
       "      <td></td>\n",
       "      <td></td>\n",
       "      <td></td>\n",
       "      <td></td>\n",
       "      <td></td>\n",
       "      <td></td>\n",
       "      <td></td>\n",
       "      <td></td>\n",
       "      <td></td>\n",
       "      <td></td>\n",
       "    </tr>\n",
       "    <tr>\n",
       "      <th>1</th>\n",
       "      <td>1</td>\n",
       "      <td>A</td>\n",
       "      <td>Red/Lilac</td>\n",
       "      <td>Former CAIR National Communications Dept.; liv...</td>\n",
       "      <td>Muslim</td>\n",
       "      <td>Ms.</td>\n",
       "      <td>Amina</td>\n",
       "      <td></td>\n",
       "      <td>Rubin</td>\n",
       "      <td></td>\n",
       "      <td>...</td>\n",
       "      <td></td>\n",
       "      <td></td>\n",
       "      <td></td>\n",
       "      <td></td>\n",
       "      <td></td>\n",
       "      <td></td>\n",
       "      <td></td>\n",
       "      <td></td>\n",
       "      <td></td>\n",
       "      <td></td>\n",
       "    </tr>\n",
       "    <tr>\n",
       "      <th>2</th>\n",
       "      <td>2</td>\n",
       "      <td>A</td>\n",
       "      <td>Red/Lilac</td>\n",
       "      <td>For a one-time honorarium</td>\n",
       "      <td>Partner Org. | Interfaith</td>\n",
       "      <td></td>\n",
       "      <td></td>\n",
       "      <td></td>\n",
       "      <td></td>\n",
       "      <td>500</td>\n",
       "      <td>...</td>\n",
       "      <td></td>\n",
       "      <td></td>\n",
       "      <td></td>\n",
       "      <td></td>\n",
       "      <td></td>\n",
       "      <td></td>\n",
       "      <td></td>\n",
       "      <td></td>\n",
       "      <td></td>\n",
       "      <td></td>\n",
       "    </tr>\n",
       "    <tr>\n",
       "      <th>3</th>\n",
       "      <td>3</td>\n",
       "      <td>A</td>\n",
       "      <td>Red/Lilac</td>\n",
       "      <td>Likely not currently active.</td>\n",
       "      <td>Muslim</td>\n",
       "      <td></td>\n",
       "      <td></td>\n",
       "      <td></td>\n",
       "      <td></td>\n",
       "      <td>100</td>\n",
       "      <td>...</td>\n",
       "      <td></td>\n",
       "      <td></td>\n",
       "      <td></td>\n",
       "      <td></td>\n",
       "      <td></td>\n",
       "      <td></td>\n",
       "      <td></td>\n",
       "      <td></td>\n",
       "      <td></td>\n",
       "      <td></td>\n",
       "    </tr>\n",
       "    <tr>\n",
       "      <th>4</th>\n",
       "      <td>4</td>\n",
       "      <td>A</td>\n",
       "      <td>Red/Lilac</td>\n",
       "      <td>LIVING IN BRAZIL; current local address may be...</td>\n",
       "      <td>Interfaith</td>\n",
       "      <td></td>\n",
       "      <td>Sanjiv</td>\n",
       "      <td>K</td>\n",
       "      <td>Kapur, Esq.</td>\n",
       "      <td></td>\n",
       "      <td>...</td>\n",
       "      <td></td>\n",
       "      <td></td>\n",
       "      <td></td>\n",
       "      <td></td>\n",
       "      <td></td>\n",
       "      <td></td>\n",
       "      <td></td>\n",
       "      <td></td>\n",
       "      <td></td>\n",
       "      <td></td>\n",
       "    </tr>\n",
       "  </tbody>\n",
       "</table>\n",
       "<p>5 rows × 41 columns</p>\n",
       "</div>"
      ],
      "text/plain": [
       "  Unnamed: 0 Letter      Color  \\\n",
       "0          0      A  Red/Lilac   \n",
       "1          1      A  Red/Lilac   \n",
       "2          2      A  Red/Lilac   \n",
       "3          3      A  Red/Lilac   \n",
       "4          4      A  Red/Lilac   \n",
       "\n",
       "                       Status/Notes - Quickbooks - A  \\\n",
       "0                                                      \n",
       "1  Former CAIR National Communications Dept.; liv...   \n",
       "2                          For a one-time honorarium   \n",
       "3                       Likely not currently active.   \n",
       "4  LIVING IN BRAZIL; current local address may be...   \n",
       "\n",
       "                  Background Title First Name Middle    Last Name Amount  ...  \\\n",
       "0                 Interfaith                                       15000  ...   \n",
       "1                     Muslim   Ms.      Amina               Rubin         ...   \n",
       "2  Partner Org. | Interfaith                                         500  ...   \n",
       "3                     Muslim                                         100  ...   \n",
       "4                 Interfaith           Sanjiv      K  Kapur, Esq.         ...   \n",
       "\n",
       "  Unnamed 2 Unnamed 3 Unnamed 4 Unnamed 5 Company STATUS Source Interfaith  \\\n",
       "0                                                                            \n",
       "1                                                                            \n",
       "2                                                                            \n",
       "3                                                                            \n",
       "4                                                                            \n",
       "\n",
       "  Unnamed: 12 Unnamed: 13  \n",
       "0                          \n",
       "1                          \n",
       "2                          \n",
       "3                          \n",
       "4                          \n",
       "\n",
       "[5 rows x 41 columns]"
      ]
     },
     "execution_count": 4,
     "metadata": {},
     "output_type": "execute_result"
    }
   ],
   "source": [
    "df = pd.read_excel(path, dtype = str)\n",
    "df = df.fillna('')\n",
    "ic(df.columns)\n",
    "ic(df.shape)\n",
    "df.head()"
   ]
  },
  {
   "cell_type": "markdown",
   "id": "51e19240-7398-4005-9712-674e4d086e38",
   "metadata": {},
   "source": [
    "Creating a column which is the other columns concatenated together, with a seperator character between them"
   ]
  },
  {
   "cell_type": "code",
   "execution_count": 5,
   "id": "6944c733-9e8d-4524-b141-1194aaeab88b",
   "metadata": {},
   "outputs": [
    {
     "name": "stdout",
     "output_type": "stream",
     "text": [
      "|A||||Ms.|Ghada|M.|Elkhatib|||||||||||||7220 Tottenham|Toledo|Ohio|43617||||||||||||||||\n"
     ]
    }
   ],
   "source": [
    "cols_to_concat = ['Letter','Color', 'Status/Notes - Quickbooks - A', 'Background','Title', 'First Name', 'Middle', 'Last Name', 'Amount', 'Organization','Additional/Related Contact', 'Main Phone', 'Mobile', 'Home', 'Work','Fax', 'Main Email', 'Secondary Email', 'Additional Email','Work/School Email', 'Street Address', 'City', 'State', 'Zip Code','Status Notes', 'Company/Organization', 'Bad Status/Notes - B','Address', 'Status only noted 8-15-2018 in retrospect', 'Unnamed 1','Unnamed 2', 'Unnamed 3', 'Unnamed 4', 'Unnamed 5', 'Company', 'STATUS','Source', 'Interfaith', 'Unnamed: 12', 'Unnamed: 13']\n",
    "df['Row'] = \"\"\n",
    "df['Row'].shape\n",
    "for col in cols_to_concat:\n",
    "    df['Row'] = df['Row'] + '|' + df[col]\n",
    "print(df.loc[100,'Row'])"
   ]
  },
  {
   "cell_type": "markdown",
   "id": "a865d0c1-7de6-43b9-8f9c-a46262081e81",
   "metadata": {},
   "source": [
    "Take n rows and compute the SDE between that row and every other row"
   ]
  },
  {
   "cell_type": "code",
   "execution_count": 15,
   "id": "39407202-a017-4a66-9c93-2613d52448c5",
   "metadata": {},
   "outputs": [
    {
     "name": "stderr",
     "output_type": "stream",
     "text": [
      "ic| SDC.shape: (300, 9504)\n",
      "ic| samples.shape: (300, 42)\n",
      "ic| [i,j]: [300, 9504]\n"
     ]
    },
    {
     "data": {
      "text/plain": [
       "[300, 9504]"
      ]
     },
     "execution_count": 15,
     "metadata": {},
     "output_type": "execute_result"
    }
   ],
   "source": [
    "n = 300\n",
    "SDC = np.empty((n,df.shape[0]))\n",
    "ic(SDC.shape)\n",
    "samples = df.sample(n)\n",
    "ic(samples.shape)\n",
    "\n",
    "i = 0 #yes, there must be a more efficient way to do this\n",
    "for str1 in samples['Row']:\n",
    "    j = 0\n",
    "    for str2 in df['Row']:\n",
    "        SDC[i,j] = dice_coefficient(str1,str2)\n",
    "        j = j+1\n",
    "    i = i+1\n",
    "ic([i,j])"
   ]
  },
  {
   "cell_type": "markdown",
   "id": "56719a62-1359-4687-a69c-1f291c81a58c",
   "metadata": {},
   "source": [
    "I want to see the trends in similarity between from least to most similar"
   ]
  },
  {
   "cell_type": "code",
   "execution_count": 16,
   "id": "61fc409e-aa0e-4dfe-8689-97a583a342fd",
   "metadata": {},
   "outputs": [
    {
     "name": "stderr",
     "output_type": "stream",
     "text": [
      "ic| SDC.shape: (300, 9504)\n"
     ]
    },
    {
     "data": {
      "image/png": "[encoded data removed]",
      "text/plain": [
       "<Figure size 640x480 with 1 Axes>"
      ]
     },
     "metadata": {},
     "output_type": "display_data"
    },
    {
     "name": "stderr",
     "output_type": "stream",
     "text": [
      "ic| [np.mean(SDC),np.std(SDC),np.mean(SDC)+np.std(SDC)]: [0.2659374140036646, 0.07857636067902973, 0.34451377468269434]\n"
     ]
    },
    {
     "data": {
      "text/plain": [
       "[0.2659374140036646, 0.07857636067902973, 0.34451377468269434]"
      ]
     },
     "execution_count": 16,
     "metadata": {},
     "output_type": "execute_result"
    }
   ],
   "source": [
    "SDC = np.sort(SDC, axis = 1)\n",
    "ic(SDC.shape)\n",
    "#plt.plot(np.transpose(SDC))\n",
    "plt.plot(np.mean(SDC, axis = 0))\n",
    "plt.grid()\n",
    "plt.show()\n",
    "ic([np.mean(SDC),np.std(SDC),np.mean(SDC)+np.std(SDC)])"
   ]
  },
  {
   "cell_type": "code",
   "execution_count": 36,
   "id": "51598430-ac08-4bd2-b75a-8c83882d52e4",
   "metadata": {},
   "outputs": [
    {
     "name": "stderr",
     "output_type": "stream",
     "text": [
      "ic| np.mean(SDC > np.mean(SDC)): 0.4573393658810325\n",
      "ic| np.mean(SDC > np.mean(SDC)+np.std(SDC)): 0.1493301066217733\n"
     ]
    },
    {
     "data": {
      "text/plain": [
       "0.1493301066217733"
      ]
     },
     "execution_count": 36,
     "metadata": {},
     "output_type": "execute_result"
    }
   ],
   "source": [
    "# percent above the mean\n",
    "ic(np.mean(SDC > np.mean(SDC)))\n",
    "# percent greater than one standard deviation above the mean\n",
    "ic(np.mean(SDC > np.mean(SDC)+np.std(SDC)))"
   ]
  },
  {
   "cell_type": "markdown",
   "id": "73070dd6-6925-4339-87c0-959a4f505beb",
   "metadata": {},
   "source": [
    "**Implementing the algoirthm**"
   ]
  },
  {
   "cell_type": "code",
   "execution_count": 31,
   "id": "ccc4414d-bb05-479a-ac78-7b91f0751b8a",
   "metadata": {},
   "outputs": [
    {
     "ename": "TypeError",
     "evalue": "tuple indices must be integers or slices, not str",
     "output_type": "error",
     "traceback": [
      "\u001b[1;31m---------------------------------------------------------------------------\u001b[0m",
      "\u001b[1;31mTypeError\u001b[0m                                 Traceback (most recent call last)",
      "\u001b[1;32m~\\AppData\\Local\\Temp\\ipykernel_19824\\3259611899.py\u001b[0m in \u001b[0;36m<module>\u001b[1;34m\u001b[0m\n\u001b[0;32m     23\u001b[0m \u001b[1;32mfor\u001b[0m \u001b[0mrow\u001b[0m \u001b[1;32min\u001b[0m \u001b[0mdf\u001b[0m\u001b[1;33m.\u001b[0m\u001b[0miterrows\u001b[0m\u001b[1;33m(\u001b[0m\u001b[1;33m)\u001b[0m\u001b[1;33m:\u001b[0m\u001b[1;33m\u001b[0m\u001b[1;33m\u001b[0m\u001b[0m\n\u001b[0;32m     24\u001b[0m     \u001b[1;32mif\u001b[0m \u001b[0mrow\u001b[0m\u001b[1;33m[\u001b[0m\u001b[1;36m0\u001b[0m\u001b[1;33m]\u001b[0m \u001b[1;33m==\u001b[0m \u001b[1;36m0\u001b[0m\u001b[1;33m:\u001b[0m\u001b[1;33m\u001b[0m\u001b[1;33m\u001b[0m\u001b[0m\n\u001b[1;32m---> 25\u001b[1;33m         \u001b[0mprint\u001b[0m\u001b[1;33m(\u001b[0m\u001b[0mrow\u001b[0m\u001b[1;33m[\u001b[0m\u001b[1;34m'Row'\u001b[0m\u001b[1;33m]\u001b[0m\u001b[1;33m[\u001b[0m\u001b[1;36m0\u001b[0m\u001b[1;33m]\u001b[0m\u001b[1;33m)\u001b[0m\u001b[1;33m\u001b[0m\u001b[1;33m\u001b[0m\u001b[0m\n\u001b[0m",
      "\u001b[1;31mTypeError\u001b[0m: tuple indices must be integers or slices, not str"
     ]
    }
   ],
   "source": [
    "\"\"\"\n",
    "define dice score threshold\n",
    "load dataframe from Excel sheet\n",
    "define list of columns that can be excluded from analysis\n",
    "make a new column which is every included column concatenated\n",
    "    defines the strings used in the analysis, will refer to them as entries\n",
    "make a new column called sort index\n",
    "    each \"cluster\" will share an integer\n",
    "    assign initial value of 0\n",
    "sort_index = 1\n",
    "for every row\n",
    "    if row[sort index] = 0\n",
    "        row[sort index] = sort_index\n",
    "        for every other row (probably implement as another for every row)\n",
    "            if other row[sort index] = 0\n",
    "                dice score (entry, other entry)\n",
    "                if threshold < dice score\n",
    "                    other row[sort index] = sort index\n",
    "        sort index ++\n",
    "\"\"\"\n",
    "threshold = 0.5\n",
    "df['Cluster'] = 0\n",
    "cluster = 1\n",
    "\n",
    "ic(n = df.shape[0])\n",
    "\n",
    "time_per_cluster = []\n",
    "\n",
    "for i in range(n):\n",
    "    if df['Cluster'][i] == 0:\n",
    "        \n",
    "        start = time.time()\n",
    "        \n",
    "        df['Cluster'][i] = cluster\n",
    "        for j in range(n):\n",
    "            if df['Cluster'][j] == 0:\n",
    "                coeff = dice_coefficient(df['Row'][i],df['Row'][j])\n",
    "                if threshold < coeff:\n",
    "                    df['Cluster'][j] = cluster\n",
    "        cluster = cluster+1\n",
    "        \n",
    "        end =  time.time()"
   ]
  },
  {
   "cell_type": "code",
   "execution_count": 37,
   "id": "e99a3836-2b5a-460f-a41a-929593399316",
   "metadata": {},
   "outputs": [
    {
     "data": {
      "text/plain": [
       "(9504, 43)"
      ]
     },
     "execution_count": 37,
     "metadata": {},
     "output_type": "execute_result"
    }
   ],
   "source": [
    "df.shape\n",
    "#df['Row'][0]"
   ]
  }
 ],
 "metadata": {
  "kernelspec": {
   "display_name": "Python 3 (ipykernel)",
   "language": "python",
   "name": "python3"
  },
  "language_info": {
   "codemirror_mode": {
    "name": "ipython",
    "version": 3
   },
   "file_extension": ".py",
   "mimetype": "text/x-python",
   "name": "python",
   "nbconvert_exporter": "python",
   "pygments_lexer": "ipython3",
   "version": "3.9.13"
  }
 },
 "nbformat": 4,
 "nbformat_minor": 5
}
