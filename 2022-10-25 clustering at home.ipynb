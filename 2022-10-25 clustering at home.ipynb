{
 "cells": [
  {
   "cell_type": "markdown",
   "id": "c61bbb10-c1b2-4edc-9836-ec6c0022233c",
   "metadata": {},
   "source": [
    "Attempting to use Sørensen–Dice coefficient as means of grouping similar data entries\n",
    "- https://en.wikipedia.org/wiki/S%C3%B8rensen%E2%80%93Dice_coefficient\n",
    "- Provides a fractional score between 0 and 1\n",
    "- Does not obey triangle equality, but that does not seem like a downside at this point"
   ]
  },
  {
   "cell_type": "markdown",
   "id": "3ea5a4f2-39d5-4ff2-942c-b323fc4698fd",
   "metadata": {},
   "source": [
    "Following implementation is shamelessly copied from https://en.wikibooks.org/wiki/Algorithm_Implementation/Strings/Dice%27s_coefficient#Python\n",
    "\n",
    "**2022-10-26 note:** Making use o the implementation that will count 'AA' and 'AAAA' as only one match to minimize the impact of column seperator character. This can be improved by removing all duples with the seperator character."
   ]
  },
  {
   "cell_type": "code",
   "execution_count": 1,
   "id": "365910d5-1d67-4bb8-b52a-833f711855c5",
   "metadata": {},
   "outputs": [],
   "source": [
    "\"\"\" more orthodox and robust implementation \"\"\"\n",
    "def dice_coefficient(a, b):\n",
    "    \"\"\"dice coefficient 2nt/(na + nb).\"\"\"\n",
    "    if not len(a) or not len(b): return 0.0\n",
    "    if len(a) == 1:  a=a+u'.'\n",
    "    if len(b) == 1:  b=b+u'.'\n",
    "    \n",
    "    a_bigram_list=[]\n",
    "    for i in range(len(a)-1):\n",
    "      a_bigram_list.append(a[i:i+2])\n",
    "    b_bigram_list=[]\n",
    "    for i in range(len(b)-1):\n",
    "      b_bigram_list.append(b[i:i+2])\n",
    "      \n",
    "    a_bigrams = set(a_bigram_list)\n",
    "    b_bigrams = set(b_bigram_list)\n",
    "    overlap = len(a_bigrams & b_bigrams)\n",
    "    dice_coeff = overlap * 2.0/(len(a_bigrams) + len(b_bigrams))\n",
    "    return dice_coeff"
   ]
  },
  {
   "cell_type": "markdown",
   "id": "3e5cc598-7006-45c7-a88c-5571a7d49476",
   "metadata": {},
   "source": [
    "Pseudocode"
   ]
  },
  {
   "cell_type": "code",
   "execution_count": 2,
   "id": "fee69193-f9b0-43bc-87b4-034b142654c9",
   "metadata": {},
   "outputs": [
    {
     "data": {
      "text/plain": [
       "'\\ndefine dice score threshold\\nload dataframe from Excel sheet\\ndefine list of columns that can be excluded from analysis\\nmake a new column which is every included column concatenated\\n    defines the strings used in the analysis, will refer to them as entries\\nmake a new column called sort index\\n    each \"cluster\" will share an integer\\n    assign initial value of 0\\nsort_index = 1\\nfor every row\\n    if row[sort index] = 0\\n        row[sort index] = sort_index\\n        for every other row (probably implement as another for every row)\\n            if other row[sort index] = 0\\n                dice score (entry, other entry)\\n                if threshold < dice score\\n                    other row[sort index] = sort index\\n        sort index ++\\n'"
      ]
     },
     "execution_count": 2,
     "metadata": {},
     "output_type": "execute_result"
    }
   ],
   "source": [
    "\"\"\"\n",
    "define dice score threshold\n",
    "load dataframe from Excel sheet\n",
    "define list of columns that can be excluded from analysis\n",
    "make a new column which is every included column concatenated\n",
    "    defines the strings used in the analysis, will refer to them as entries\n",
    "make a new column called sort index\n",
    "    each \"cluster\" will share an integer\n",
    "    assign initial value of 0\n",
    "sort_index = 1\n",
    "for every row\n",
    "    if row[sort index] = 0\n",
    "        row[sort index] = sort_index\n",
    "        for every other row (probably implement as another for every row)\n",
    "            if other row[sort index] = 0\n",
    "                dice score (entry, other entry)\n",
    "                if threshold < dice score\n",
    "                    other row[sort index] = sort index\n",
    "        sort index ++\n",
    "\"\"\""
   ]
  },
  {
   "cell_type": "markdown",
   "id": "02367096-b3fb-4a6a-93c5-fd56c5fae44c",
   "metadata": {},
   "source": [
    "# 2022-10-25"
   ]
  },
  {
   "cell_type": "code",
   "execution_count": 3,
   "id": "20829dc2-ec69-47fb-a93c-9cfd341f9a14",
   "metadata": {},
   "outputs": [],
   "source": [
    "path = \"F:/EXCEL Sheets for ADNAN to MERGE 2022/merged.xlsx\"\n",
    "import numpy as np\n",
    "import pandas as pd\n",
    "from icecream import ic\n",
    "from matplotlib import pyplot as plt\n",
    "import time\n",
    "from tqdm import tqdm"
   ]
  },
  {
   "cell_type": "markdown",
   "id": "b5c90c3a-dd09-40a1-b9c8-8bfa1cd9497b",
   "metadata": {},
   "source": [
    "Import the Excel sheet"
   ]
  },
  {
   "cell_type": "code",
   "execution_count": 4,
   "id": "dd20b21e-909a-4cf4-a947-6637baad1c29",
   "metadata": {},
   "outputs": [
    {
     "name": "stderr",
     "output_type": "stream",
     "text": [
      "ic| df.columns: Index(['Unnamed: 0', 'Letter', 'Color', 'Status/Notes - Quickbooks - A',\n",
      "                       'Background', 'Title', 'First Name', 'Middle', 'Last Name', 'Amount',\n",
      "                       'Organization', 'Additional/Related Contact', 'Main Phone', 'Mobile',\n",
      "                       'Home', 'Work', 'Fax', 'Main Email', 'Secondary Email',\n",
      "                       'Additional Email', 'Work/School Email', 'Street Address', 'City',\n",
      "                       'State', 'Zip Code', 'Status Notes', 'Company/Organization',\n",
      "                       'Bad Status/Notes - B', 'Address',\n",
      "                       'Status only noted 8-15-2018 in retrospect', 'Unnamed 1', 'Unnamed 2',\n",
      "                       'Unnamed 3', 'Unnamed 4', 'Unnamed 5', 'Company', 'STATUS', 'Source',\n",
      "                       'Interfaith', 'Unnamed: 12', 'Unnamed: 13'],\n",
      "                      dtype='object')\n",
      "ic| df.shape: (9504, 41)\n"
     ]
    },
    {
     "data": {
      "text/plain": [
       "(9504, 41)"
      ]
     },
     "execution_count": 4,
     "metadata": {},
     "output_type": "execute_result"
    }
   ],
   "source": [
    "df = pd.read_excel(path, dtype = str)\n",
    "df = df.fillna('')\n",
    "ic(df.columns)\n",
    "ic(df.shape)"
   ]
  },
  {
   "cell_type": "markdown",
   "id": "51e19240-7398-4005-9712-674e4d086e38",
   "metadata": {},
   "source": [
    "Creating a column which is the other columns concatenated together, with a seperator character between them"
   ]
  },
  {
   "cell_type": "code",
   "execution_count": 5,
   "id": "6944c733-9e8d-4524-b141-1194aaeab88b",
   "metadata": {},
   "outputs": [],
   "source": [
    "cols_to_concat = ['Background','Title', 'First Name', 'Middle', 'Last Name', 'Organization', 'Additional/Related Contact', 'Main Phone', 'Mobile', 'Home', 'Work','Fax', 'Main Email', 'Secondary Email', 'Additional Email','Work/School Email', 'Street Address', 'City','Zip Code','Status Notes', 'Company/Organization', 'Address','Unnamed 1','Unnamed 2', 'Unnamed 3', 'Unnamed 4', 'Unnamed 5', 'Company', 'Unnamed: 12', 'Unnamed: 13']\n",
    "df['Row'] = \"\"\n",
    "df['Row'].shape\n",
    "for col in cols_to_concat:\n",
    "    df['Row'] = df['Row'] + '|' + df[col]"
   ]
  },
  {
   "cell_type": "markdown",
   "id": "a865d0c1-7de6-43b9-8f9c-a46262081e81",
   "metadata": {},
   "source": [
    "Take n rows and compute the SDE between that row and every other row"
   ]
  },
  {
   "cell_type": "code",
   "execution_count": 6,
   "id": "39407202-a017-4a66-9c93-2613d52448c5",
   "metadata": {},
   "outputs": [
    {
     "name": "stderr",
     "output_type": "stream",
     "text": [
      "ic| SDC.shape: (300, 9504)\n",
      "ic| samples.shape: (300, 42)\n",
      "ic| [i,j]: [300, 9504]\n"
     ]
    },
    {
     "data": {
      "text/plain": [
       "[300, 9504]"
      ]
     },
     "execution_count": 6,
     "metadata": {},
     "output_type": "execute_result"
    }
   ],
   "source": [
    "n = 300\n",
    "SDC = np.empty((n,df.shape[0]))\n",
    "ic(SDC.shape)\n",
    "samples = df.sample(n)\n",
    "ic(samples.shape)\n",
    "\n",
    "i = 0 #yes, there must be a more efficient way to do this\n",
    "for str1 in samples['Row']:\n",
    "    j = 0\n",
    "    for str2 in df['Row']:\n",
    "        SDC[i,j] = dice_coefficient(str1,str2)\n",
    "        j = j+1\n",
    "    i = i+1\n",
    "ic([i,j])"
   ]
  },
  {
   "cell_type": "markdown",
   "id": "56719a62-1359-4687-a69c-1f291c81a58c",
   "metadata": {},
   "source": [
    "I want to see the trends in similarity between from least to most similar"
   ]
  },
  {
   "cell_type": "raw",
   "id": "689b58e0-9235-4155-befb-9807eb7144f0",
   "metadata": {},
   "source": [
    "\n",
    "SDC = np.sort(SDC, axis = 1)\n",
    "ic(SDC.shape)\n",
    "#plt.plot(np.transpose(SDC))\n",
    "plt.plot(np.mean(SDC, axis = 0))\n",
    "plt.grid()\n",
    "plt.show()\n",
    "ic([np.mean(SDC),np.std(SDC),np.mean(SDC)+np.std(SDC)])\n"
   ]
  },
  {
   "cell_type": "code",
   "execution_count": 8,
   "id": "51598430-ac08-4bd2-b75a-8c83882d52e4",
   "metadata": {},
   "outputs": [
    {
     "name": "stderr",
     "output_type": "stream",
     "text": [
      "ic| np.mean(SDC > np.mean(SDC)): 0.43760451739618406\n",
      "ic| np.mean(SDC > np.mean(SDC)+np.std(SDC)): 0.13764976150392816\n"
     ]
    },
    {
     "data": {
      "text/plain": [
       "0.13764976150392816"
      ]
     },
     "execution_count": 8,
     "metadata": {},
     "output_type": "execute_result"
    }
   ],
   "source": [
    "# percent above the mean\n",
    "ic(np.mean(SDC > np.mean(SDC)))\n",
    "# percent greater than one standard deviation above the mean\n",
    "ic(np.mean(SDC > np.mean(SDC)+np.std(SDC)))"
   ]
  },
  {
   "cell_type": "markdown",
   "id": "73070dd6-6925-4339-87c0-959a4f505beb",
   "metadata": {},
   "source": [
    "**Implementing the algoirthm**"
   ]
  },
  {
   "cell_type": "code",
   "execution_count": 9,
   "id": "ccc4414d-bb05-479a-ac78-7b91f0751b8a",
   "metadata": {},
   "outputs": [
    {
     "name": "stderr",
     "output_type": "stream",
     "text": [
      "ic| n: 9504\n",
      "  0%|                                                                                         | 0/9504 [00:00<?, ?it/s]C:\\Users\\CAIR OHIO ADMIN\\AppData\\Local\\Temp\\ipykernel_29288\\2053716471.py:35: SettingWithCopyWarning: \n",
      "A value is trying to be set on a copy of a slice from a DataFrame\n",
      "\n",
      "See the caveats in the documentation: https://pandas.pydata.org/pandas-docs/stable/user_guide/indexing.html#returning-a-view-versus-a-copy\n",
      "  df['Cluster'][i] = cluster\n",
      "C:\\Users\\CAIR OHIO ADMIN\\AppData\\Local\\Temp\\ipykernel_29288\\2053716471.py:40: SettingWithCopyWarning: \n",
      "A value is trying to be set on a copy of a slice from a DataFrame\n",
      "\n",
      "See the caveats in the documentation: https://pandas.pydata.org/pandas-docs/stable/user_guide/indexing.html#returning-a-view-versus-a-copy\n",
      "  df['Cluster'][j] = cluster\n",
      "100%|██████████████████████████████████████████████████████████████████████████████| 9504/9504 [06:52<00:00, 23.06it/s]\n"
     ]
    }
   ],
   "source": [
    "\"\"\"\n",
    "define dice score threshold\n",
    "load dataframe from Excel sheet\n",
    "define list of columns that can be excluded from analysis\n",
    "make a new column which is every included column concatenated\n",
    "    defines the strings used in the analysis, will refer to them as entries\n",
    "make a new column called sort index\n",
    "    each \"cluster\" will share an integer\n",
    "    assign initial value of 0\n",
    "sort_index = 1\n",
    "for every row\n",
    "    if row[sort index] = 0\n",
    "        row[sort index] = sort_index\n",
    "        for every other row (probably implement as another for every row)\n",
    "            if other row[sort index] = 0\n",
    "                dice score (entry, other entry)\n",
    "                if threshold < dice score\n",
    "                    other row[sort index] = sort index\n",
    "        sort index ++\n",
    "\"\"\"\n",
    "threshold = 0.5\n",
    "df['Cluster'] = 0\n",
    "cluster = 1\n",
    "\n",
    "n = df.shape[0]\n",
    "ic(n)\n",
    "\n",
    "time_per_cluster = []\n",
    "\n",
    "for i in tqdm(range(n)):\n",
    "    if df['Cluster'][i] == 0:\n",
    "        \n",
    "        start = time.time()\n",
    "        \n",
    "        df['Cluster'][i] = cluster\n",
    "        for j in range(n):\n",
    "            if df['Cluster'][j] == 0:\n",
    "                coeff = dice_coefficient(df['Row'][i],df['Row'][j])\n",
    "                if threshold < coeff:\n",
    "                    df['Cluster'][j] = cluster\n",
    "        cluster = cluster+1\n",
    "        \n",
    "        end = time.time()\n",
    "        time_per_cluster.append(end-start)"
   ]
  },
  {
   "cell_type": "code",
   "execution_count": 10,
   "id": "daad2c66-f79f-41d0-8cfd-09d11d459ab5",
   "metadata": {
    "tags": []
   },
   "outputs": [],
   "source": [
    "sorted_df = df\n",
    "\n",
    "path = \"F:/EXCEL Sheets for ADNAN to MERGE 2022/\"\n",
    "df.to_excel(path+'sorted.xlsx')"
   ]
  },
  {
   "cell_type": "code",
   "execution_count": 17,
   "id": "2eb9f6a3-ea6f-4421-b5c0-03cf8642756a",
   "metadata": {},
   "outputs": [
    {
     "data": {
      "text/plain": [
       "<AxesSubplot:>"
      ]
     },
     "execution_count": 17,
     "metadata": {},
     "output_type": "execute_result"
    },
    {
     "data": {
      "image/png": "[encoded data removed]",
      "text/plain": [
       "<Figure size 640x480 with 1 Axes>"
      ]
     },
     "metadata": {},
     "output_type": "display_data"
    }
   ],
   "source": [
    "df['Cluster'].value_counts().plot(kind = 'barh')"
   ]
  },
  {
   "cell_type": "code",
   "execution_count": 12,
   "id": "3f6014c8-762c-4bf1-a698-b91a61ba8d9a",
   "metadata": {},
   "outputs": [
    {
     "data": {
      "image/png": "[encoded data removed]",
      "text/plain": [
       "<Figure size 640x480 with 1 Axes>"
      ]
     },
     "metadata": {},
     "output_type": "display_data"
    }
   ],
   "source": [
    "plt.plot(time_per_cluster)\n",
    "plt.show()"
   ]
  }
 ],
 "metadata": {
  "kernelspec": {
   "display_name": "Python 3 (ipykernel)",
   "language": "python",
   "name": "python3"
  },
  "language_info": {
   "codemirror_mode": {
    "name": "ipython",
    "version": 3
   },
   "file_extension": ".py",
   "mimetype": "text/x-python",
   "name": "python",
   "nbconvert_exporter": "python",
   "pygments_lexer": "ipython3",
   "version": "3.9.13"
  }
 },
 "nbformat": 4,
 "nbformat_minor": 5
}
