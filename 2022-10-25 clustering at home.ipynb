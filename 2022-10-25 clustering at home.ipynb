{
 "cells": [
  {
   "cell_type": "markdown",
   "id": "c61bbb10-c1b2-4edc-9836-ec6c0022233c",
   "metadata": {},
   "source": [
    "Attempting to use Sørensen–Dice coefficient as means of grouping similar data entries\n",
    "- https://en.wikipedia.org/wiki/S%C3%B8rensen%E2%80%93Dice_coefficient\n",
    "- Provides a fractional score between 0 and 1\n",
    "- Does not obey triangle equality, but that does not seem like a downside at this point"
   ]
  },
  {
   "cell_type": "markdown",
   "id": "3ea5a4f2-39d5-4ff2-942c-b323fc4698fd",
   "metadata": {},
   "source": [
    "Following implementation is shamelessly copied from https://en.wikibooks.org/wiki/Algorithm_Implementation/Strings/Dice%27s_coefficient#Python"
   ]
  },
  {
   "cell_type": "code",
   "execution_count": 1,
   "id": "365910d5-1d67-4bb8-b52a-833f711855c5",
   "metadata": {},
   "outputs": [],
   "source": [
    "def dice_coefficient(a,b):\n",
    "    if not len(a) or not len(b): return 0.0\n",
    "    \"\"\" quick case for true duplicates \"\"\"\n",
    "    if a == b: return 1.0\n",
    "    \"\"\" if a != b, and a or b are single chars, then they can't possibly match \"\"\"\n",
    "    if len(a) == 1 or len(b) == 1: return 0.0\n",
    "    \n",
    "    \"\"\" use python list comprehension, preferred over list.append() \"\"\"\n",
    "    a_bigram_list = [a[i:i+2] for i in range(len(a)-1)]\n",
    "    b_bigram_list = [b[i:i+2] for i in range(len(b)-1)]\n",
    "    \n",
    "    a_bigram_list.sort()\n",
    "    b_bigram_list.sort()\n",
    "    \n",
    "    # assignments to save function calls\n",
    "    lena = len(a_bigram_list)\n",
    "    lenb = len(b_bigram_list)\n",
    "    # initialize match counters\n",
    "    matches = i = j = 0\n",
    "    while (i < lena and j < lenb):\n",
    "        if a_bigram_list[i] == b_bigram_list[j]:\n",
    "            matches += 2\n",
    "            i += 1\n",
    "            j += 1\n",
    "        elif a_bigram_list[i] < b_bigram_list[j]:\n",
    "            i += 1\n",
    "        else:\n",
    "            j += 1\n",
    "    \n",
    "    score = float(matches)/float(lena + lenb)\n",
    "    return score"
   ]
  },
  {
   "cell_type": "markdown",
   "id": "3e5cc598-7006-45c7-a88c-5571a7d49476",
   "metadata": {},
   "source": [
    "Pseudocode"
   ]
  },
  {
   "cell_type": "code",
   "execution_count": 7,
   "id": "fee69193-f9b0-43bc-87b4-034b142654c9",
   "metadata": {},
   "outputs": [
    {
     "data": {
      "text/plain": [
       "'\\nload dataframe from Excel sheet\\ndefine list of columns that can be excluded from analysis\\nmake a new column which is every included column concatenated\\n    defines the strings used in the analysis, will refer to them as entries\\nmake a new column called sort index\\n    each \"cluster\" will share an integer\\n    assign initial value of 0\\nsort_index = 1\\nfor every row\\n    if row[sort index] = 0\\n        row[sort index] = sort_index\\n        for every other row (probably implement as another for every row)\\n            if row[sort index] = 0\\n                dice score (entry, other entry)\\n        sort index ++\\n'"
      ]
     },
     "execution_count": 7,
     "metadata": {},
     "output_type": "execute_result"
    }
   ],
   "source": [
    "\"\"\"\n",
    "define dice score threshold\n",
    "load dataframe from Excel sheet\n",
    "define list of columns that can be excluded from analysis\n",
    "make a new column which is every included column concatenated\n",
    "    defines the strings used in the analysis, will refer to them as entries\n",
    "make a new column called sort index\n",
    "    each \"cluster\" will share an integer\n",
    "    assign initial value of 0\n",
    "sort_index = 1\n",
    "for every row\n",
    "    if row[sort index] = 0\n",
    "        row[sort index] = sort_index\n",
    "        for every other row (probably implement as another for every row)\n",
    "            if other row[sort index] = 0\n",
    "                dice score (entry, other entry)\n",
    "                if threshold < dice score\n",
    "                    other row[sort index] = sort index\n",
    "        sort index ++\n",
    "\"\"\""
   ]
  },
  {
   "cell_type": "markdown",
   "id": "02367096-b3fb-4a6a-93c5-fd56c5fae44c",
   "metadata": {},
   "source": [
    "# 2022-10-25\n",
    "Finding a good threshhold score"
   ]
  },
  {
   "cell_type": "code",
   "execution_count": 2,
   "id": "20829dc2-ec69-47fb-a93c-9cfd341f9a14",
   "metadata": {},
   "outputs": [],
   "source": [
    "path = \"F:/EXCEL Sheets for ADNAN to MERGE 2022/merged.xlsx\"\n",
    "import pandas as pd"
   ]
  },
  {
   "cell_type": "code",
   "execution_count": 7,
   "id": "dd20b21e-909a-4cf4-a947-6637baad1c29",
   "metadata": {},
   "outputs": [
    {
     "data": {
      "text/plain": [
       "(9504, 41)"
      ]
     },
     "execution_count": 7,
     "metadata": {},
     "output_type": "execute_result"
    }
   ],
   "source": [
    "df = pd.read_excel(path)\n",
    "df.shape"
   ]
  }
 ],
 "metadata": {
  "kernelspec": {
   "display_name": "Python 3 (ipykernel)",
   "language": "python",
   "name": "python3"
  },
  "language_info": {
   "codemirror_mode": {
    "name": "ipython",
    "version": 3
   },
   "file_extension": ".py",
   "mimetype": "text/x-python",
   "name": "python",
   "nbconvert_exporter": "python",
   "pygments_lexer": "ipython3",
   "version": "3.9.13"
  }
 },
 "nbformat": 4,
 "nbformat_minor": 5
}
