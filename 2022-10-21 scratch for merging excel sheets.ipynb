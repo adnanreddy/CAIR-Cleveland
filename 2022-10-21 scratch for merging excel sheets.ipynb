{
 "cells": [
  {
   "cell_type": "code",
   "execution_count": 1,
   "id": "f4710414-3576-4ff7-961e-50ed1656025b",
   "metadata": {},
   "outputs": [],
   "source": [
    "import numpy as np\n",
    "import pandas as pd\n",
    "from icecream import ic\n",
    "path = 'F://EXCEL Sheets for ADNAN to MERGE 2022//' # to thumbdrive"
   ]
  },
  {
   "cell_type": "markdown",
   "id": "bc97557d-82ee-4374-b969-9617fbf47e96",
   "metadata": {},
   "source": [
    "Reading in data from Excel files"
   ]
  },
  {
   "cell_type": "code",
   "execution_count": 2,
   "id": "30b8170f-374f-4cfa-b368-0892858faaf9",
   "metadata": {},
   "outputs": [
    {
     "name": "stderr",
     "output_type": "stream",
     "text": [
      "ic| A.shape: (2439, 25)\n"
     ]
    },
    {
     "data": {
      "text/plain": [
       "(2439, 25)"
      ]
     },
     "execution_count": 2,
     "metadata": {},
     "output_type": "execute_result"
    }
   ],
   "source": [
    "A = pd.read_excel(path+'A'+'.xlsx')\n",
    "ic(A.shape)"
   ]
  },
  {
   "cell_type": "code",
   "execution_count": 3,
   "id": "05a30653-7433-4533-8f34-c1999e033f9d",
   "metadata": {},
   "outputs": [
    {
     "name": "stderr",
     "output_type": "stream",
     "text": [
      "ic| B.shape: (2827, 18)\n"
     ]
    },
    {
     "data": {
      "text/plain": [
       "(2827, 18)"
      ]
     },
     "execution_count": 3,
     "metadata": {},
     "output_type": "execute_result"
    }
   ],
   "source": [
    "B = pd.read_excel(path+'B'+'.xlsx')\n",
    "ic(B.shape)"
   ]
  },
  {
   "cell_type": "code",
   "execution_count": 4,
   "id": "1c6dbc8a-1fcb-44b9-a51b-ec4987966b93",
   "metadata": {},
   "outputs": [
    {
     "name": "stderr",
     "output_type": "stream",
     "text": [
      "ic| C.shape: (4238, 14)\n"
     ]
    },
    {
     "data": {
      "text/plain": [
       "(4238, 14)"
      ]
     },
     "execution_count": 4,
     "metadata": {},
     "output_type": "execute_result"
    }
   ],
   "source": [
    "C = pd.read_excel(path+'Mailing List UPDATED 8-14-18 Master with Bad Addresses Included Combo List'+'.xlsx')\n",
    "ic(C.shape)"
   ]
  },
  {
   "cell_type": "markdown",
   "id": "314b73ba-5644-4be5-9495-7cc32e627612",
   "metadata": {},
   "source": [
    "Find the unique columns (may appear unnecessary because I've edited the Excel files after this step)"
   ]
  },
  {
   "cell_type": "code",
   "execution_count": 5,
   "id": "c9e1709c-9edb-4e39-b928-768cb313f120",
   "metadata": {},
   "outputs": [
    {
     "name": "stdout",
     "output_type": "stream",
     "text": [
      "['Additional Email' 'Additional/Related Contact' 'Address' 'Amount'\n",
      " 'Background' 'Bad Status/Notes - B' 'City' 'Color' 'Company'\n",
      " 'Company/Organization' 'Fax' 'First Name' 'Home' 'Interfaith' 'Last Name'\n",
      " 'Letter' 'Main Email' 'Main Phone' 'Middle' 'Mobile' 'Organization'\n",
      " 'STATUS' 'Secondary Email' 'Source' 'State' 'Status Notes'\n",
      " 'Status only noted 8-15-2018 in retrospect'\n",
      " 'Status/Notes - Quickbooks - A' 'Street Address' 'Title' 'Unnamed 1'\n",
      " 'Unnamed 2' 'Unnamed 3' 'Unnamed 4' 'Unnamed 5' 'Unnamed: 12'\n",
      " 'Unnamed: 13' 'Work' 'Work/School Email' 'Zip Code']\n"
     ]
    },
    {
     "data": {
      "text/plain": [
       "(40,)"
      ]
     },
     "execution_count": 5,
     "metadata": {},
     "output_type": "execute_result"
    }
   ],
   "source": [
    "unique_cols = np.unique(np.concatenate((np.array(A.columns),np.array(B.columns),np.array(C.columns))))\n",
    "print(unique_cols)\n",
    "unique_cols.shape"
   ]
  },
  {
   "cell_type": "markdown",
   "id": "6db28a89-0b12-47d2-a321-ed2b792acedb",
   "metadata": {},
   "source": [
    "Now I make a fool of myself trying to combine the sheets"
   ]
  },
  {
   "cell_type": "code",
   "execution_count": 6,
   "id": "e70fa7e7-6a73-466e-861e-ad4ba19dd59b",
   "metadata": {},
   "outputs": [
    {
     "data": {
      "text/plain": [
       "(30, 40)"
      ]
     },
     "execution_count": 6,
     "metadata": {},
     "output_type": "execute_result"
    }
   ],
   "source": [
    "a = A.sample(10)\n",
    "b = B.sample(10)\n",
    "c = C.sample(10)\n",
    "\n",
    "test = pd.concat([a,b,c])\n",
    "test.shape"
   ]
  },
  {
   "cell_type": "markdown",
   "id": "18329450-26ff-44fb-a04d-6a697290e023",
   "metadata": {},
   "source": [
    "Above has the expected dimensions, replicating with bigger datasets:"
   ]
  },
  {
   "cell_type": "code",
   "execution_count": 7,
   "id": "02ba2d4c-8957-4d56-9d20-8bf2fa14bbb0",
   "metadata": {},
   "outputs": [
    {
     "name": "stderr",
     "output_type": "stream",
     "text": [
      "ic| [A.shape[0],B.shape[0],C.shape[0]]: [2439, 2827, 4238]\n",
      "ic| merged['Letter'].value_counts(): B    2827\n",
      "                                     A    2439\n",
      "                                     Name: Letter, dtype: int64\n",
      "ic| A.shape[0]+B.shape[0]+C.shape[0]: 9504\n",
      "ic| merged.shape: (9504, 40)\n"
     ]
    },
    {
     "data": {
      "text/plain": [
       "(9504, 40)"
      ]
     },
     "execution_count": 7,
     "metadata": {},
     "output_type": "execute_result"
    }
   ],
   "source": [
    "merged = pd.concat([A, B, C])\n",
    "ic([A.shape[0],B.shape[0],C.shape[0]])\n",
    "ic(merged['Letter'].value_counts())\n",
    "ic(A.shape[0]+B.shape[0]+C.shape[0])\n",
    "ic(merged.shape)"
   ]
  },
  {
   "cell_type": "markdown",
   "id": "487c84e7-2268-4734-8c71-346ed0125d08",
   "metadata": {},
   "source": [
    "Save to Excel file"
   ]
  },
  {
   "cell_type": "code",
   "execution_count": 8,
   "id": "e4c7e0a4-fbe5-438c-9866-21d6c9dbb67d",
   "metadata": {},
   "outputs": [],
   "source": [
    "merged.to_excel(path+'merged.xlsx')  "
   ]
  }
 ],
 "metadata": {
  "kernelspec": {
   "display_name": "Python 3 (ipykernel)",
   "language": "python",
   "name": "python3"
  },
  "language_info": {
   "codemirror_mode": {
    "name": "ipython",
    "version": 3
   },
   "file_extension": ".py",
   "mimetype": "text/x-python",
   "name": "python",
   "nbconvert_exporter": "python",
   "pygments_lexer": "ipython3",
   "version": "3.9.13"
  }
 },
 "nbformat": 4,
 "nbformat_minor": 5
}
